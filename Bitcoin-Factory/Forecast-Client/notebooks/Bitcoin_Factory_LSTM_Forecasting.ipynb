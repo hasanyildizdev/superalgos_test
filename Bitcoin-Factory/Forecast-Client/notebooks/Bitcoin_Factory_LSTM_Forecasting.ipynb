{
 "cells": [
  {
   "cell_type": "markdown",
   "metadata": {
    "id": "DweYe9FcbMK_",
    "pycharm": {
     "name": "#%% md\n"
    }
   },
   "source": [
    "##### Bitcoin Factory Machine Learning\n"
   ]
  },
  {
   "cell_type": "markdown",
   "metadata": {
    "pycharm": {
     "name": "#%% md\n"
    }
   },
   "source": [
    "# Multivariate Time Series Forecasting with LSTMs in Keras"
   ]
  },
  {
   "cell_type": "markdown",
   "metadata": {
    "id": "sUtoed20cRJJ",
    "pycharm": {
     "name": "#%% md\n"
    }
   },
   "source": [
    "## Time Series Forecasting - Multiple Lag Timesteps - Multiple Labels"
   ]
  },
  {
   "cell_type": "markdown",
   "metadata": {
    "pycharm": {
     "name": "#%% md\n"
    }
   },
   "source": [
    "Based on Tutorial from https://machinelearningmastery.com/multivariate-time-series-forecasting-lstms-keras/"
   ]
  },
  {
   "cell_type": "markdown",
   "metadata": {
    "pycharm": {
     "name": "#%% md\n"
    }
   },
   "source": [
    "# Strategy"
   ]
  },
  {
   "cell_type": "markdown",
   "metadata": {
    "pycharm": {
     "name": "#%% md\n"
    }
   },
   "source": [
    "The strategy is to predict the Candle.Max and Candle.Min of a set of Crypto Assets at the highest timeframe possible, in order to use the prediction to pick the one with higher % of predicted increase in price to take a position in it before that happens."
   ]
  },
  {
   "cell_type": "markdown",
   "metadata": {
    "pycharm": {
     "name": "#%% md\n"
    }
   },
   "source": [
    "# Code to Run"
   ]
  },
  {
   "cell_type": "markdown",
   "metadata": {
    "pycharm": {
     "name": "#%% md\n"
    }
   },
   "source": [
    "## Libraries Used"
   ]
  },
  {
   "cell_type": "code",
   "execution_count": 45,
   "metadata": {
    "pycharm": {
     "name": "#%%\n"
    }
   },
   "outputs": [],
   "source": [
    "from json import JSONEncoder\n",
    "from math import sqrt\n",
    "\n",
    "import numpy\n",
    "from numpy import concatenate\n",
    "from matplotlib import pyplot\n",
    "from pandas import read_csv\n",
    "from pandas import DataFrame\n",
    "from pandas import concat\n",
    "from sklearn.preprocessing import MinMaxScaler\n",
    "from sklearn.metrics import mean_squared_error\n",
    "from keras.models import Sequential\n",
    "from keras.layers import Dense\n",
    "from keras.layers import LSTM\n",
    "from keras.models import load_model\n",
    "import json"
   ]
  },
  {
   "cell_type": "markdown",
   "metadata": {
    "pycharm": {
     "name": "#%% md\n"
    }
   },
   "source": [
    "## Functions Used\n"
   ]
  },
  {
   "cell_type": "code",
   "execution_count": 46,
   "metadata": {
    "collapsed": false,
    "pycharm": {
     "name": "#%%\n"
    }
   },
   "outputs": [],
   "source": [
    "class NumpyArrayEncoder(JSONEncoder):\n",
    "    def default(self, obj):\n",
    "        if isinstance(obj, numpy.ndarray):\n",
    "            return obj.tolist()\n",
    "        return JSONEncoder.default(self, obj)"
   ]
  },
  {
   "cell_type": "code",
   "execution_count": 47,
   "metadata": {
    "pycharm": {
     "name": "#%%\n"
    }
   },
   "outputs": [],
   "source": [
    "# convert series to supervised learning\n",
    "def series_to_supervised(data, n_in=1, n_out=1, dropnan=True):\n",
    "\tn_vars = 1 if type(data) is list else data.shape[1]\n",
    "\tdf = DataFrame(data)\n",
    "\tcols, names = list(), list()\n",
    "\t# input sequence (t-n, ... t-1)\n",
    "\tfor i in range(n_in, 0, -1):\n",
    "\t\tcols.append(df.shift(i))\n",
    "\t\tnames += [('var%d(t-%d)' % (j+1, i)) for j in range(n_vars)]\n",
    "\t# forecast sequence (t, t+1, ... t+n)\n",
    "\tfor i in range(0, n_out):\n",
    "\t\tcols.append(df.shift(-i))\n",
    "\t\tif i == 0:\n",
    "\t\t\tnames += [('var%d(t)' % (j+1)) for j in range(n_vars)]\n",
    "\t\telse:\n",
    "\t\t\tnames += [('var%d(t+%d)' % (j+1, i)) for j in range(n_vars)]\n",
    "\t# put it all together\n",
    "\tagg = concat(cols, axis=1)\n",
    "\tagg.columns = names\n",
    "\t# drop rows with NaN values\n",
    "\tif dropnan:\n",
    "\t\tagg.dropna(inplace=True)\n",
    "\treturn agg\n"
   ]
  },
  {
   "cell_type": "markdown",
   "metadata": {
    "pycharm": {
     "name": "#%% md\n"
    }
   },
   "source": [
    "## Load the Instructions Dataset"
   ]
  },
  {
   "cell_type": "code",
   "execution_count": 48,
   "metadata": {
    "pycharm": {
     "name": "#%%\n"
    }
   },
   "outputs": [
    {
     "data": {
      "text/html": [
       "<div>\n",
       "<style scoped>\n",
       "    .dataframe tbody tr th:only-of-type {\n",
       "        vertical-align: middle;\n",
       "    }\n",
       "\n",
       "    .dataframe tbody tr th {\n",
       "        vertical-align: top;\n",
       "    }\n",
       "\n",
       "    .dataframe thead th {\n",
       "        text-align: right;\n",
       "    }\n",
       "</style>\n",
       "<table border=\"1\" class=\"dataframe\">\n",
       "  <thead>\n",
       "    <tr style=\"text-align: right;\">\n",
       "      <th></th>\n",
       "      <th>INSTRUCTION</th>\n",
       "      <th>VALUE</th>\n",
       "    </tr>\n",
       "  </thead>\n",
       "  <tbody>\n",
       "    <tr>\n",
       "      <th>0</th>\n",
       "      <td>ACTION_TO_TAKE</td>\n",
       "      <td>BUILD_AND_SAVE_MODEL</td>\n",
       "    </tr>\n",
       "    <tr>\n",
       "      <th>1</th>\n",
       "      <td>MODEL_FILE_NAME</td>\n",
       "      <td>MODEL-30</td>\n",
       "    </tr>\n",
       "  </tbody>\n",
       "</table>\n",
       "</div>"
      ],
      "text/plain": [
       "       INSTRUCTION                 VALUE\n",
       "0   ACTION_TO_TAKE  BUILD_AND_SAVE_MODEL\n",
       "1  MODEL_FILE_NAME              MODEL-30"
      ]
     },
     "execution_count": 48,
     "metadata": {},
     "output_type": "execute_result"
    }
   ],
   "source": [
    "instructions_dataset = read_csv(\n",
    "    '/tf/notebooks/instructions.csv',\n",
    "    header=0,\n",
    "    sep=' ',\n",
    "    skipinitialspace=True\n",
    ")\n",
    "\n",
    "instructions_dataset"
   ]
  },
  {
   "cell_type": "code",
   "execution_count": 49,
   "metadata": {
    "pycharm": {
     "name": "#%%\n"
    }
   },
   "outputs": [],
   "source": [
    "# what are we going to do in the current run?\n",
    "ACTION_TO_TAKE = instructions_dataset.values[0][1]\n",
    "\n",
    "# name of the model file to load or save.\n",
    "MODEL_FILE_NAME = instructions_dataset.values[1][1]"
   ]
  },
  {
   "cell_type": "markdown",
   "metadata": {
    "pycharm": {
     "name": "#%% md\n"
    }
   },
   "source": [
    "## Load the Parameters Dataset\n"
   ]
  },
  {
   "cell_type": "code",
   "execution_count": 50,
   "metadata": {
    "pycharm": {
     "name": "#%%\n"
    }
   },
   "outputs": [
    {
     "data": {
      "text/html": [
       "<div>\n",
       "<style scoped>\n",
       "    .dataframe tbody tr th:only-of-type {\n",
       "        vertical-align: middle;\n",
       "    }\n",
       "\n",
       "    .dataframe tbody tr th {\n",
       "        vertical-align: top;\n",
       "    }\n",
       "\n",
       "    .dataframe thead th {\n",
       "        text-align: right;\n",
       "    }\n",
       "</style>\n",
       "<table border=\"1\" class=\"dataframe\">\n",
       "  <thead>\n",
       "    <tr style=\"text-align: right;\">\n",
       "      <th></th>\n",
       "      <th>LIST_OF_ASSETS</th>\n",
       "      <th>LIST_OF_TIMEFRAMES</th>\n",
       "      <th>NUMBER_OF_INDICATORS_PROPERTIES</th>\n",
       "      <th>TIMESTEPS_TO_TRAIN</th>\n",
       "      <th>OBSERVATION_WINDOW_SIZE</th>\n",
       "      <th>INITIAL_QUOTE_ASSET</th>\n",
       "      <th>INITIAL_BASE_ASSET</th>\n",
       "      <th>TRADING_FEE</th>\n",
       "      <th>ENV_NAME</th>\n",
       "      <th>ENV_VERSION</th>\n",
       "      <th>...</th>\n",
       "      <th>ZEUS_DMI_DMI_DMI_ADX</th>\n",
       "      <th>ZEUS_DMI_DMI_DMI_MINUSDI</th>\n",
       "      <th>ZEUS_DMI_DMI_DMI_PLUSDI</th>\n",
       "      <th>QUANTUM_HARSI_HARSI_HARSI_STOCHD</th>\n",
       "      <th>QUANTUM_HARSI_HARSI_HARSI_STOCHK</th>\n",
       "      <th>QUANTUM_HARSI_HARSI_HARSI_HAMIN</th>\n",
       "      <th>QUANTUM_HARSI_HARSI_HARSI_HAMAX</th>\n",
       "      <th>QUANTUM_HARSI_HARSI_HARSI_HACLOSE</th>\n",
       "      <th>QUANTUM_HARSI_HARSI_HARSI_HAOPEN</th>\n",
       "      <th>QUANTUM_HARSI_HARSI_HARSI_RSI</th>\n",
       "    </tr>\n",
       "  </thead>\n",
       "  <tbody>\n",
       "    <tr>\n",
       "      <th>0</th>\n",
       "      <td>BTC</td>\n",
       "      <td>01-hs</td>\n",
       "      <td>8</td>\n",
       "      <td>undefined</td>\n",
       "      <td>undefined</td>\n",
       "      <td>undefined</td>\n",
       "      <td>undefined</td>\n",
       "      <td>undefined</td>\n",
       "      <td>undefined</td>\n",
       "      <td>undefined</td>\n",
       "      <td>...</td>\n",
       "      <td>NaN</td>\n",
       "      <td>NaN</td>\n",
       "      <td>NaN</td>\n",
       "      <td>NaN</td>\n",
       "      <td>NaN</td>\n",
       "      <td>NaN</td>\n",
       "      <td>NaN</td>\n",
       "      <td>NaN</td>\n",
       "      <td>NaN</td>\n",
       "      <td>NaN</td>\n",
       "    </tr>\n",
       "  </tbody>\n",
       "</table>\n",
       "<p>1 rows × 814 columns</p>\n",
       "</div>"
      ],
      "text/plain": [
       "  LIST_OF_ASSETS LIST_OF_TIMEFRAMES  NUMBER_OF_INDICATORS_PROPERTIES  \\\n",
       "0            BTC              01-hs                                8   \n",
       "\n",
       "  TIMESTEPS_TO_TRAIN OBSERVATION_WINDOW_SIZE INITIAL_QUOTE_ASSET  \\\n",
       "0          undefined               undefined           undefined   \n",
       "\n",
       "  INITIAL_BASE_ASSET TRADING_FEE   ENV_NAME ENV_VERSION  ...  \\\n",
       "0          undefined   undefined  undefined   undefined  ...   \n",
       "\n",
       "  ZEUS_DMI_DMI_DMI_ADX ZEUS_DMI_DMI_DMI_MINUSDI ZEUS_DMI_DMI_DMI_PLUSDI  \\\n",
       "0                  NaN                      NaN                     NaN   \n",
       "\n",
       "  QUANTUM_HARSI_HARSI_HARSI_STOCHD QUANTUM_HARSI_HARSI_HARSI_STOCHK  \\\n",
       "0                              NaN                              NaN   \n",
       "\n",
       "  QUANTUM_HARSI_HARSI_HARSI_HAMIN QUANTUM_HARSI_HARSI_HARSI_HAMAX  \\\n",
       "0                             NaN                             NaN   \n",
       "\n",
       "  QUANTUM_HARSI_HARSI_HARSI_HACLOSE QUANTUM_HARSI_HARSI_HARSI_HAOPEN  \\\n",
       "0                               NaN                              NaN   \n",
       "\n",
       "  QUANTUM_HARSI_HARSI_HARSI_RSI  \n",
       "0                           NaN  \n",
       "\n",
       "[1 rows x 814 columns]"
      ]
     },
     "execution_count": 50,
     "metadata": {},
     "output_type": "execute_result"
    }
   ],
   "source": [
    "parameters_dataset = read_csv(\n",
    "    '/tf/notebooks/parameters.csv',\n",
    "    header=0,\n",
    "    sep=' ',\n",
    "    skipinitialspace=True\n",
    ")\n",
    "\n",
    "parameters_dataset"
   ]
  },
  {
   "cell_type": "code",
   "execution_count": 51,
   "metadata": {
    "pycharm": {
     "name": "#%%\n"
    }
   },
   "outputs": [],
   "source": [
    "# supporting both positional access and by name\n",
    "\n",
    "if set(['PARAMETER']).issubset(parameters_dataset.columns):\n",
    "        # number of indicator properties that are at the raw dataset. Each set of indicators properties might be at many assets or timeframes.\n",
    "    NUMBER_OF_INDICATORS_PROPERTIES = int(parameters_dataset.values[2][1])\n",
    "\n",
    "    # number of timesteps in the secuence that we are going to use to feed the model.\n",
    "    NUMBER_OF_LAG_TIMESTEPS = int(parameters_dataset.values[3][1])\n",
    "\n",
    "    # number of assets included at the raw dataset.\n",
    "    NUMBER_OF_ASSETS = int(parameters_dataset.values[4][1])\n",
    "\n",
    "    # number of things we are going to predict.\n",
    "    NUMBER_OF_LABELS = int(parameters_dataset.values[5][1])\n",
    "\n",
    "    # definition of how the raw dataset is going to be divided between a Traing Dataset and a Test Dataset.\n",
    "    PERCENTAGE_OF_DATASET_FOR_TRAINING = int(parameters_dataset.values[6][1])\n",
    "\n",
    "    NUMBER_OF_FEATURES = int(parameters_dataset.values[7][1])\n",
    "\n",
    "    # hyper-parameters\n",
    "    NUMBER_OF_EPOCHS = int(parameters_dataset.values[8][1])\n",
    "    NUMBER_OF_LSTM_NEURONS = int(parameters_dataset.values[9][1])\n",
    "\n",
    "else:\n",
    "\n",
    "    NUMBER_OF_INDICATORS_PROPERTIES = int(parameters_dataset['NUMBER_OF_INDICATORS_PROPERTIES'][0])\n",
    "    # number of timesteps in the secuence that we are going to use to feed the model.\n",
    "    NUMBER_OF_LAG_TIMESTEPS = int(parameters_dataset['NUMBER_OF_LAG_TIMESTEPS'][0])\n",
    "\n",
    "    # number of assets included at the raw dataset.\n",
    "    NUMBER_OF_ASSETS = int(parameters_dataset['NUMBER_OF_ASSETS'][0])\n",
    "\n",
    "    # number of things we are going to predict.\n",
    "    NUMBER_OF_LABELS = int(parameters_dataset['NUMBER_OF_LABELS'][0])\n",
    "\n",
    "    # definition of how the raw dataset is going to be divided between a Traing Dataset and a Test Dataset.\n",
    "    PERCENTAGE_OF_DATASET_FOR_TRAINING = int(parameters_dataset['PERCENTAGE_OF_DATASET_FOR_TRAINING'][0])\n",
    "\n",
    "    NUMBER_OF_FEATURES = int(parameters_dataset['NUMBER_OF_FEATURES'][0])\n",
    "\n",
    "    # hyper-parameters\n",
    "    NUMBER_OF_EPOCHS = int(parameters_dataset['NUMBER_OF_EPOCHS'][0])\n",
    "    NUMBER_OF_LSTM_NEURONS = int(parameters_dataset['NUMBER_OF_LSTM_NEURONS'][0])"
   ]
  },
  {
   "cell_type": "markdown",
   "metadata": {
    "pycharm": {
     "name": "#%% md\n"
    }
   },
   "source": [
    "## Load the Time-Series Dataset"
   ]
  },
  {
   "cell_type": "code",
   "execution_count": 52,
   "metadata": {
    "pycharm": {
     "name": "#%%\n"
    }
   },
   "outputs": [
    {
     "data": {
      "text/html": [
       "<div>\n",
       "<style scoped>\n",
       "    .dataframe tbody tr th:only-of-type {\n",
       "        vertical-align: middle;\n",
       "    }\n",
       "\n",
       "    .dataframe tbody tr th {\n",
       "        vertical-align: top;\n",
       "    }\n",
       "\n",
       "    .dataframe thead th {\n",
       "        text-align: right;\n",
       "    }\n",
       "</style>\n",
       "<table border=\"1\" class=\"dataframe\">\n",
       "  <thead>\n",
       "    <tr style=\"text-align: right;\">\n",
       "      <th></th>\n",
       "      <th>BTC-CANDLE-MAX-01-HS-1</th>\n",
       "      <th>BTC-CANDLE-MIN-01-HS-1</th>\n",
       "      <th>BTC-CANDLE-CLOSE-01-HS-1</th>\n",
       "      <th>BTC-CANDLE-OPEN-01-HS-1</th>\n",
       "      <th>BTC-VOLUME-BUY-01-HS-1</th>\n",
       "      <th>BTC-RESISTANCE-RESISTANCE2RATE-01-HS-1</th>\n",
       "      <th>BTC-RESISTANCE-RESISTANCE3RATE-01-HS-1</th>\n",
       "      <th>BTC-RESISTANCE-RESISTANCE4RATE-01-HS-1</th>\n",
       "    </tr>\n",
       "    <tr>\n",
       "      <th>TIMESTAMP</th>\n",
       "      <th></th>\n",
       "      <th></th>\n",
       "      <th></th>\n",
       "      <th></th>\n",
       "      <th></th>\n",
       "      <th></th>\n",
       "      <th></th>\n",
       "      <th></th>\n",
       "    </tr>\n",
       "  </thead>\n",
       "  <tbody>\n",
       "    <tr>\n",
       "      <th>1502928000000</th>\n",
       "      <td>29864.04</td>\n",
       "      <td>29864.04</td>\n",
       "      <td>29864.04</td>\n",
       "      <td>29864.04</td>\n",
       "      <td>0.000000</td>\n",
       "      <td>0.00</td>\n",
       "      <td>0.00</td>\n",
       "      <td>0.00</td>\n",
       "    </tr>\n",
       "    <tr>\n",
       "      <th>1502931600000</th>\n",
       "      <td>29864.04</td>\n",
       "      <td>29864.04</td>\n",
       "      <td>29864.04</td>\n",
       "      <td>29864.04</td>\n",
       "      <td>0.000000</td>\n",
       "      <td>0.00</td>\n",
       "      <td>0.00</td>\n",
       "      <td>0.00</td>\n",
       "    </tr>\n",
       "    <tr>\n",
       "      <th>1502935200000</th>\n",
       "      <td>29864.04</td>\n",
       "      <td>29864.04</td>\n",
       "      <td>29864.04</td>\n",
       "      <td>29864.04</td>\n",
       "      <td>0.000000</td>\n",
       "      <td>0.00</td>\n",
       "      <td>0.00</td>\n",
       "      <td>0.00</td>\n",
       "    </tr>\n",
       "    <tr>\n",
       "      <th>1502938800000</th>\n",
       "      <td>29864.04</td>\n",
       "      <td>29864.04</td>\n",
       "      <td>29864.04</td>\n",
       "      <td>29864.04</td>\n",
       "      <td>0.000000</td>\n",
       "      <td>0.00</td>\n",
       "      <td>0.00</td>\n",
       "      <td>0.00</td>\n",
       "    </tr>\n",
       "    <tr>\n",
       "      <th>1502942400000</th>\n",
       "      <td>4313.62</td>\n",
       "      <td>4261.32</td>\n",
       "      <td>4308.83</td>\n",
       "      <td>4261.48</td>\n",
       "      <td>23.590505</td>\n",
       "      <td>0.00</td>\n",
       "      <td>0.00</td>\n",
       "      <td>0.00</td>\n",
       "    </tr>\n",
       "    <tr>\n",
       "      <th>...</th>\n",
       "      <td>...</td>\n",
       "      <td>...</td>\n",
       "      <td>...</td>\n",
       "      <td>...</td>\n",
       "      <td>...</td>\n",
       "      <td>...</td>\n",
       "      <td>...</td>\n",
       "      <td>...</td>\n",
       "    </tr>\n",
       "    <tr>\n",
       "      <th>1658160000000</th>\n",
       "      <td>22713.28</td>\n",
       "      <td>22110.77</td>\n",
       "      <td>22202.00</td>\n",
       "      <td>22675.83</td>\n",
       "      <td>7005.838035</td>\n",
       "      <td>22995.73</td>\n",
       "      <td>23041.27</td>\n",
       "      <td>23362.88</td>\n",
       "    </tr>\n",
       "    <tr>\n",
       "      <th>1658163600000</th>\n",
       "      <td>22222.40</td>\n",
       "      <td>21821.05</td>\n",
       "      <td>21878.06</td>\n",
       "      <td>22200.57</td>\n",
       "      <td>4920.851585</td>\n",
       "      <td>22995.73</td>\n",
       "      <td>23041.27</td>\n",
       "      <td>23362.88</td>\n",
       "    </tr>\n",
       "    <tr>\n",
       "      <th>1658167200000</th>\n",
       "      <td>22010.70</td>\n",
       "      <td>21801.56</td>\n",
       "      <td>21832.70</td>\n",
       "      <td>21876.30</td>\n",
       "      <td>4242.611330</td>\n",
       "      <td>22995.73</td>\n",
       "      <td>23041.27</td>\n",
       "      <td>23362.88</td>\n",
       "    </tr>\n",
       "    <tr>\n",
       "      <th>1658170800000</th>\n",
       "      <td>21879.53</td>\n",
       "      <td>21388.00</td>\n",
       "      <td>21617.92</td>\n",
       "      <td>21835.17</td>\n",
       "      <td>6178.571300</td>\n",
       "      <td>22995.73</td>\n",
       "      <td>23041.27</td>\n",
       "      <td>23362.88</td>\n",
       "    </tr>\n",
       "    <tr>\n",
       "      <th>1658174400000</th>\n",
       "      <td>21678.43</td>\n",
       "      <td>21434.35</td>\n",
       "      <td>21493.18</td>\n",
       "      <td>21617.92</td>\n",
       "      <td>3304.876955</td>\n",
       "      <td>22995.73</td>\n",
       "      <td>23041.27</td>\n",
       "      <td>23362.88</td>\n",
       "    </tr>\n",
       "  </tbody>\n",
       "</table>\n",
       "<p>43125 rows × 8 columns</p>\n",
       "</div>"
      ],
      "text/plain": [
       "               BTC-CANDLE-MAX-01-HS-1  BTC-CANDLE-MIN-01-HS-1  \\\n",
       "TIMESTAMP                                                       \n",
       "1502928000000                29864.04                29864.04   \n",
       "1502931600000                29864.04                29864.04   \n",
       "1502935200000                29864.04                29864.04   \n",
       "1502938800000                29864.04                29864.04   \n",
       "1502942400000                 4313.62                 4261.32   \n",
       "...                               ...                     ...   \n",
       "1658160000000                22713.28                22110.77   \n",
       "1658163600000                22222.40                21821.05   \n",
       "1658167200000                22010.70                21801.56   \n",
       "1658170800000                21879.53                21388.00   \n",
       "1658174400000                21678.43                21434.35   \n",
       "\n",
       "               BTC-CANDLE-CLOSE-01-HS-1  BTC-CANDLE-OPEN-01-HS-1  \\\n",
       "TIMESTAMP                                                          \n",
       "1502928000000                  29864.04                 29864.04   \n",
       "1502931600000                  29864.04                 29864.04   \n",
       "1502935200000                  29864.04                 29864.04   \n",
       "1502938800000                  29864.04                 29864.04   \n",
       "1502942400000                   4308.83                  4261.48   \n",
       "...                                 ...                      ...   \n",
       "1658160000000                  22202.00                 22675.83   \n",
       "1658163600000                  21878.06                 22200.57   \n",
       "1658167200000                  21832.70                 21876.30   \n",
       "1658170800000                  21617.92                 21835.17   \n",
       "1658174400000                  21493.18                 21617.92   \n",
       "\n",
       "               BTC-VOLUME-BUY-01-HS-1  BTC-RESISTANCE-RESISTANCE2RATE-01-HS-1  \\\n",
       "TIMESTAMP                                                                       \n",
       "1502928000000                0.000000                                    0.00   \n",
       "1502931600000                0.000000                                    0.00   \n",
       "1502935200000                0.000000                                    0.00   \n",
       "1502938800000                0.000000                                    0.00   \n",
       "1502942400000               23.590505                                    0.00   \n",
       "...                               ...                                     ...   \n",
       "1658160000000             7005.838035                                22995.73   \n",
       "1658163600000             4920.851585                                22995.73   \n",
       "1658167200000             4242.611330                                22995.73   \n",
       "1658170800000             6178.571300                                22995.73   \n",
       "1658174400000             3304.876955                                22995.73   \n",
       "\n",
       "               BTC-RESISTANCE-RESISTANCE3RATE-01-HS-1  \\\n",
       "TIMESTAMP                                               \n",
       "1502928000000                                    0.00   \n",
       "1502931600000                                    0.00   \n",
       "1502935200000                                    0.00   \n",
       "1502938800000                                    0.00   \n",
       "1502942400000                                    0.00   \n",
       "...                                               ...   \n",
       "1658160000000                                23041.27   \n",
       "1658163600000                                23041.27   \n",
       "1658167200000                                23041.27   \n",
       "1658170800000                                23041.27   \n",
       "1658174400000                                23041.27   \n",
       "\n",
       "               BTC-RESISTANCE-RESISTANCE4RATE-01-HS-1  \n",
       "TIMESTAMP                                              \n",
       "1502928000000                                    0.00  \n",
       "1502931600000                                    0.00  \n",
       "1502935200000                                    0.00  \n",
       "1502938800000                                    0.00  \n",
       "1502942400000                                    0.00  \n",
       "...                                               ...  \n",
       "1658160000000                                23362.88  \n",
       "1658163600000                                23362.88  \n",
       "1658167200000                                23362.88  \n",
       "1658170800000                                23362.88  \n",
       "1658174400000                                23362.88  \n",
       "\n",
       "[43125 rows x 8 columns]"
      ]
     },
     "execution_count": 52,
     "metadata": {},
     "output_type": "execute_result"
    }
   ],
   "source": [
    "timeseries_dataset = read_csv(\n",
    "    '/tf/notebooks/time-series.csv',\n",
    "    header=0,\n",
    "    index_col=0,    #The first colum is a timestamp that will be used to index all the data.\n",
    "    sep=' ',\n",
    "    skipinitialspace=True\n",
    ")\n",
    "\n",
    "timeseries_dataset"
   ]
  },
  {
   "cell_type": "markdown",
   "metadata": {
    "pycharm": {
     "name": "#%% md\n"
    }
   },
   "source": [
    "## Duplicate the Last Record"
   ]
  },
  {
   "cell_type": "markdown",
   "metadata": {
    "pycharm": {
     "name": "#%% md\n"
    }
   },
   "source": [
    "The reframing process shift each record to the left of the shifting window, producing that the last record of data is ignored at the last prediction. To fix this we will duplicate the last record so that the last prediction belongs to the the last piece of information available."
   ]
  },
  {
   "cell_type": "code",
   "execution_count": 53,
   "metadata": {
    "pycharm": {
     "name": "#%%\n"
    }
   },
   "outputs": [],
   "source": [
    "values = timeseries_dataset.values"
   ]
  },
  {
   "cell_type": "code",
   "execution_count": 54,
   "metadata": {
    "pycharm": {
     "name": "#%%\n"
    }
   },
   "outputs": [
    {
     "data": {
      "text/plain": [
       "array([[21678.43    , 21434.35    , 21493.18    , 21617.92    ,\n",
       "         3304.876955, 22995.73    , 23041.27    , 23362.88    ]])"
      ]
     },
     "execution_count": 54,
     "metadata": {},
     "output_type": "execute_result"
    }
   ],
   "source": [
    "last_record = values[-1:,:]\n",
    "last_record"
   ]
  },
  {
   "cell_type": "code",
   "execution_count": 55,
   "metadata": {
    "pycharm": {
     "name": "#%%\n"
    }
   },
   "outputs": [
    {
     "data": {
      "text/plain": [
       "array([[29864.04, 29864.04, 29864.04, ...,     0.  ,     0.  ,     0.  ],\n",
       "       [29864.04, 29864.04, 29864.04, ...,     0.  ,     0.  ,     0.  ],\n",
       "       [29864.04, 29864.04, 29864.04, ...,     0.  ,     0.  ,     0.  ],\n",
       "       ...,\n",
       "       [21879.53, 21388.  , 21617.92, ..., 22995.73, 23041.27, 23362.88],\n",
       "       [21678.43, 21434.35, 21493.18, ..., 22995.73, 23041.27, 23362.88],\n",
       "       [21678.43, 21434.35, 21493.18, ..., 22995.73, 23041.27, 23362.88]])"
      ]
     },
     "execution_count": 55,
     "metadata": {},
     "output_type": "execute_result"
    }
   ],
   "source": [
    "all_records = concatenate((values, last_record), axis=0)\n",
    "all_records"
   ]
  },
  {
   "cell_type": "code",
   "execution_count": 56,
   "metadata": {
    "pycharm": {
     "name": "#%%\n"
    }
   },
   "outputs": [],
   "source": [
    "# ensure all data is float\n",
    "values = all_records.astype('float32')"
   ]
  },
  {
   "cell_type": "markdown",
   "metadata": {
    "pycharm": {
     "name": "#%% md\n"
    }
   },
   "source": [
    "## Plot & Verify"
   ]
  },
  {
   "cell_type": "markdown",
   "metadata": {
    "pycharm": {
     "name": "#%% md\n"
    }
   },
   "source": [
    "We plot our raw data just to be sure with a glimpse that it is alright."
   ]
  },
  {
   "cell_type": "code",
   "execution_count": 57,
   "metadata": {
    "pycharm": {
     "name": "#%%\n"
    }
   },
   "outputs": [
    {
     "data": {
      "image/png": "[encoded data removed]",
      "text/plain": [
       "<Figure size 432x288 with 2 Axes>"
      ]
     },
     "metadata": {
      "needs_background": "light"
     },
     "output_type": "display_data"
    }
   ],
   "source": [
    "# specify columns to plot\n",
    "groups = [0, 2]\n",
    "i = 1\n",
    "# plot each column\n",
    "pyplot.figure()\n",
    "for group in groups:\n",
    "\tpyplot.subplot(len(groups), 1, i)\n",
    "\tpyplot.plot(values[:, group])\n",
    "\tpyplot.title(timeseries_dataset.columns[group], y=0.5, loc='right')\n",
    "\ti += 1\n",
    "pyplot.show()"
   ]
  },
  {
   "cell_type": "markdown",
   "metadata": {
    "pycharm": {
     "name": "#%% md\n"
    }
   },
   "source": [
    "## Normalization"
   ]
  },
  {
   "cell_type": "markdown",
   "metadata": {
    "pycharm": {
     "name": "#%% md\n"
    }
   },
   "source": [
    "Normalizing or removing the scale, is a standar prodcedure of any machine learning workflow."
   ]
  },
  {
   "cell_type": "code",
   "execution_count": 58,
   "metadata": {
    "pycharm": {
     "name": "#%%\n"
    }
   },
   "outputs": [],
   "source": [
    "# normalize features\n",
    "scaler = MinMaxScaler(feature_range=(0, 1))\n",
    "scaled = scaler.fit_transform(values)"
   ]
  },
  {
   "cell_type": "markdown",
   "metadata": {
    "pycharm": {
     "name": "#%% md\n"
    }
   },
   "source": [
    "## Reframing as a Supervised Learning Problem"
   ]
  },
  {
   "cell_type": "markdown",
   "metadata": {
    "pycharm": {
     "name": "#%% md\n"
    }
   },
   "source": [
    "Each Raw record needs to be expanded with the previous records in order to be suitable for beeing fed into a LSTM model. Some fields of the record at time = 0 will be used as labels and the ones at time < 0 as features."
   ]
  },
  {
   "cell_type": "code",
   "execution_count": 59,
   "metadata": {
    "pycharm": {
     "name": "#%%\n"
    }
   },
   "outputs": [],
   "source": [
    "# frame as supervised learning\n",
    "reframed = series_to_supervised(scaled, NUMBER_OF_LAG_TIMESTEPS, 1)"
   ]
  },
  {
   "cell_type": "code",
   "execution_count": 60,
   "metadata": {
    "pycharm": {
     "name": "#%%\n"
    }
   },
   "outputs": [
    {
     "data": {
      "text/html": [
       "<div>\n",
       "<style scoped>\n",
       "    .dataframe tbody tr th:only-of-type {\n",
       "        vertical-align: middle;\n",
       "    }\n",
       "\n",
       "    .dataframe tbody tr th {\n",
       "        vertical-align: top;\n",
       "    }\n",
       "\n",
       "    .dataframe thead th {\n",
       "        text-align: right;\n",
       "    }\n",
       "</style>\n",
       "<table border=\"1\" class=\"dataframe\">\n",
       "  <thead>\n",
       "    <tr style=\"text-align: right;\">\n",
       "      <th></th>\n",
       "      <th>var1(t-10)</th>\n",
       "      <th>var2(t-10)</th>\n",
       "      <th>var3(t-10)</th>\n",
       "      <th>var4(t-10)</th>\n",
       "      <th>var5(t-10)</th>\n",
       "      <th>var6(t-10)</th>\n",
       "      <th>var7(t-10)</th>\n",
       "      <th>var8(t-10)</th>\n",
       "      <th>var1(t-9)</th>\n",
       "      <th>var2(t-9)</th>\n",
       "      <th>...</th>\n",
       "      <th>var7(t-1)</th>\n",
       "      <th>var8(t-1)</th>\n",
       "      <th>var1(t)</th>\n",
       "      <th>var2(t)</th>\n",
       "      <th>var3(t)</th>\n",
       "      <th>var4(t)</th>\n",
       "      <th>var5(t)</th>\n",
       "      <th>var6(t)</th>\n",
       "      <th>var7(t)</th>\n",
       "      <th>var8(t)</th>\n",
       "    </tr>\n",
       "  </thead>\n",
       "  <tbody>\n",
       "    <tr>\n",
       "      <th>10</th>\n",
       "      <td>0.407480</td>\n",
       "      <td>0.412088</td>\n",
       "      <td>0.410031</td>\n",
       "      <td>0.410453</td>\n",
       "      <td>0.000000</td>\n",
       "      <td>0.000000</td>\n",
       "      <td>0.000000</td>\n",
       "      <td>0.000000</td>\n",
       "      <td>0.407480</td>\n",
       "      <td>0.412088</td>\n",
       "      <td>...</td>\n",
       "      <td>0.000000</td>\n",
       "      <td>0.000000</td>\n",
       "      <td>0.023013</td>\n",
       "      <td>0.024116</td>\n",
       "      <td>0.023450</td>\n",
       "      <td>0.023876</td>\n",
       "      <td>0.000181</td>\n",
       "      <td>0.000000</td>\n",
       "      <td>0.000000</td>\n",
       "      <td>0.000000</td>\n",
       "    </tr>\n",
       "    <tr>\n",
       "      <th>11</th>\n",
       "      <td>0.407480</td>\n",
       "      <td>0.412088</td>\n",
       "      <td>0.410031</td>\n",
       "      <td>0.410453</td>\n",
       "      <td>0.000000</td>\n",
       "      <td>0.000000</td>\n",
       "      <td>0.000000</td>\n",
       "      <td>0.000000</td>\n",
       "      <td>0.407480</td>\n",
       "      <td>0.412088</td>\n",
       "      <td>...</td>\n",
       "      <td>0.000000</td>\n",
       "      <td>0.000000</td>\n",
       "      <td>0.023246</td>\n",
       "      <td>0.024534</td>\n",
       "      <td>0.022952</td>\n",
       "      <td>0.024164</td>\n",
       "      <td>0.000197</td>\n",
       "      <td>0.000000</td>\n",
       "      <td>0.000000</td>\n",
       "      <td>0.000000</td>\n",
       "    </tr>\n",
       "    <tr>\n",
       "      <th>12</th>\n",
       "      <td>0.407480</td>\n",
       "      <td>0.412088</td>\n",
       "      <td>0.410031</td>\n",
       "      <td>0.410453</td>\n",
       "      <td>0.000000</td>\n",
       "      <td>0.000000</td>\n",
       "      <td>0.000000</td>\n",
       "      <td>0.000000</td>\n",
       "      <td>0.407480</td>\n",
       "      <td>0.412088</td>\n",
       "      <td>...</td>\n",
       "      <td>0.000000</td>\n",
       "      <td>0.000000</td>\n",
       "      <td>0.022703</td>\n",
       "      <td>0.024286</td>\n",
       "      <td>0.022704</td>\n",
       "      <td>0.023666</td>\n",
       "      <td>0.000168</td>\n",
       "      <td>0.000000</td>\n",
       "      <td>0.000000</td>\n",
       "      <td>0.000000</td>\n",
       "    </tr>\n",
       "    <tr>\n",
       "      <th>13</th>\n",
       "      <td>0.407480</td>\n",
       "      <td>0.412088</td>\n",
       "      <td>0.410031</td>\n",
       "      <td>0.410453</td>\n",
       "      <td>0.000000</td>\n",
       "      <td>0.000000</td>\n",
       "      <td>0.000000</td>\n",
       "      <td>0.000000</td>\n",
       "      <td>0.020645</td>\n",
       "      <td>0.022006</td>\n",
       "      <td>...</td>\n",
       "      <td>0.000000</td>\n",
       "      <td>0.000000</td>\n",
       "      <td>0.022846</td>\n",
       "      <td>0.024286</td>\n",
       "      <td>0.023435</td>\n",
       "      <td>0.023419</td>\n",
       "      <td>0.000228</td>\n",
       "      <td>0.000000</td>\n",
       "      <td>0.000000</td>\n",
       "      <td>0.000000</td>\n",
       "    </tr>\n",
       "    <tr>\n",
       "      <th>14</th>\n",
       "      <td>0.020645</td>\n",
       "      <td>0.022006</td>\n",
       "      <td>0.021149</td>\n",
       "      <td>0.021145</td>\n",
       "      <td>0.000344</td>\n",
       "      <td>0.000000</td>\n",
       "      <td>0.000000</td>\n",
       "      <td>0.000000</td>\n",
       "      <td>0.020873</td>\n",
       "      <td>0.022463</td>\n",
       "      <td>...</td>\n",
       "      <td>0.000000</td>\n",
       "      <td>0.000000</td>\n",
       "      <td>0.023246</td>\n",
       "      <td>0.024666</td>\n",
       "      <td>0.023615</td>\n",
       "      <td>0.024148</td>\n",
       "      <td>0.000377</td>\n",
       "      <td>0.000000</td>\n",
       "      <td>0.000000</td>\n",
       "      <td>0.000000</td>\n",
       "    </tr>\n",
       "    <tr>\n",
       "      <th>...</th>\n",
       "      <td>...</td>\n",
       "      <td>...</td>\n",
       "      <td>...</td>\n",
       "      <td>...</td>\n",
       "      <td>...</td>\n",
       "      <td>...</td>\n",
       "      <td>...</td>\n",
       "      <td>...</td>\n",
       "      <td>...</td>\n",
       "      <td>...</td>\n",
       "      <td>...</td>\n",
       "      <td>...</td>\n",
       "      <td>...</td>\n",
       "      <td>...</td>\n",
       "      <td>...</td>\n",
       "      <td>...</td>\n",
       "      <td>...</td>\n",
       "      <td>...</td>\n",
       "      <td>...</td>\n",
       "      <td>...</td>\n",
       "      <td>...</td>\n",
       "    </tr>\n",
       "    <tr>\n",
       "      <th>43121</th>\n",
       "      <td>0.294474</td>\n",
       "      <td>0.293824</td>\n",
       "      <td>0.294104</td>\n",
       "      <td>0.293880</td>\n",
       "      <td>0.082412</td>\n",
       "      <td>0.333271</td>\n",
       "      <td>0.333931</td>\n",
       "      <td>0.338592</td>\n",
       "      <td>0.296215</td>\n",
       "      <td>0.294587</td>\n",
       "      <td>...</td>\n",
       "      <td>0.333931</td>\n",
       "      <td>0.338592</td>\n",
       "      <td>0.291785</td>\n",
       "      <td>0.289545</td>\n",
       "      <td>0.288506</td>\n",
       "      <td>0.293924</td>\n",
       "      <td>0.071729</td>\n",
       "      <td>0.333271</td>\n",
       "      <td>0.333931</td>\n",
       "      <td>0.338592</td>\n",
       "    </tr>\n",
       "    <tr>\n",
       "      <th>43122</th>\n",
       "      <td>0.296215</td>\n",
       "      <td>0.294587</td>\n",
       "      <td>0.294771</td>\n",
       "      <td>0.294614</td>\n",
       "      <td>0.101387</td>\n",
       "      <td>0.333271</td>\n",
       "      <td>0.333931</td>\n",
       "      <td>0.338592</td>\n",
       "      <td>0.294474</td>\n",
       "      <td>0.295623</td>\n",
       "      <td>...</td>\n",
       "      <td>0.333931</td>\n",
       "      <td>0.338592</td>\n",
       "      <td>0.288580</td>\n",
       "      <td>0.289248</td>\n",
       "      <td>0.287815</td>\n",
       "      <td>0.288993</td>\n",
       "      <td>0.061842</td>\n",
       "      <td>0.333271</td>\n",
       "      <td>0.333931</td>\n",
       "      <td>0.338592</td>\n",
       "    </tr>\n",
       "    <tr>\n",
       "      <th>43123</th>\n",
       "      <td>0.294474</td>\n",
       "      <td>0.295623</td>\n",
       "      <td>0.294044</td>\n",
       "      <td>0.295281</td>\n",
       "      <td>0.061760</td>\n",
       "      <td>0.333271</td>\n",
       "      <td>0.333931</td>\n",
       "      <td>0.338592</td>\n",
       "      <td>0.293988</td>\n",
       "      <td>0.294371</td>\n",
       "      <td>...</td>\n",
       "      <td>0.333931</td>\n",
       "      <td>0.338592</td>\n",
       "      <td>0.286594</td>\n",
       "      <td>0.282947</td>\n",
       "      <td>0.284547</td>\n",
       "      <td>0.288368</td>\n",
       "      <td>0.090062</td>\n",
       "      <td>0.333271</td>\n",
       "      <td>0.333931</td>\n",
       "      <td>0.338592</td>\n",
       "    </tr>\n",
       "    <tr>\n",
       "      <th>43124</th>\n",
       "      <td>0.293988</td>\n",
       "      <td>0.294371</td>\n",
       "      <td>0.293399</td>\n",
       "      <td>0.294539</td>\n",
       "      <td>0.061271</td>\n",
       "      <td>0.333271</td>\n",
       "      <td>0.333931</td>\n",
       "      <td>0.338592</td>\n",
       "      <td>0.293414</td>\n",
       "      <td>0.291673</td>\n",
       "      <td>...</td>\n",
       "      <td>0.333931</td>\n",
       "      <td>0.338592</td>\n",
       "      <td>0.283549</td>\n",
       "      <td>0.283653</td>\n",
       "      <td>0.282649</td>\n",
       "      <td>0.285064</td>\n",
       "      <td>0.048174</td>\n",
       "      <td>0.333271</td>\n",
       "      <td>0.333931</td>\n",
       "      <td>0.338592</td>\n",
       "    </tr>\n",
       "    <tr>\n",
       "      <th>43125</th>\n",
       "      <td>0.293414</td>\n",
       "      <td>0.291673</td>\n",
       "      <td>0.292390</td>\n",
       "      <td>0.293910</td>\n",
       "      <td>0.083027</td>\n",
       "      <td>0.333271</td>\n",
       "      <td>0.333931</td>\n",
       "      <td>0.338592</td>\n",
       "      <td>0.293263</td>\n",
       "      <td>0.290717</td>\n",
       "      <td>...</td>\n",
       "      <td>0.333931</td>\n",
       "      <td>0.338592</td>\n",
       "      <td>0.283549</td>\n",
       "      <td>0.283653</td>\n",
       "      <td>0.282649</td>\n",
       "      <td>0.285064</td>\n",
       "      <td>0.048174</td>\n",
       "      <td>0.333271</td>\n",
       "      <td>0.333931</td>\n",
       "      <td>0.338592</td>\n",
       "    </tr>\n",
       "  </tbody>\n",
       "</table>\n",
       "<p>43116 rows × 88 columns</p>\n",
       "</div>"
      ],
      "text/plain": [
       "       var1(t-10)  var2(t-10)  var3(t-10)  var4(t-10)  var5(t-10)  var6(t-10)  \\\n",
       "10       0.407480    0.412088    0.410031    0.410453    0.000000    0.000000   \n",
       "11       0.407480    0.412088    0.410031    0.410453    0.000000    0.000000   \n",
       "12       0.407480    0.412088    0.410031    0.410453    0.000000    0.000000   \n",
       "13       0.407480    0.412088    0.410031    0.410453    0.000000    0.000000   \n",
       "14       0.020645    0.022006    0.021149    0.021145    0.000344    0.000000   \n",
       "...           ...         ...         ...         ...         ...         ...   \n",
       "43121    0.294474    0.293824    0.294104    0.293880    0.082412    0.333271   \n",
       "43122    0.296215    0.294587    0.294771    0.294614    0.101387    0.333271   \n",
       "43123    0.294474    0.295623    0.294044    0.295281    0.061760    0.333271   \n",
       "43124    0.293988    0.294371    0.293399    0.294539    0.061271    0.333271   \n",
       "43125    0.293414    0.291673    0.292390    0.293910    0.083027    0.333271   \n",
       "\n",
       "       var7(t-10)  var8(t-10)  var1(t-9)  var2(t-9)  ...  var7(t-1)  \\\n",
       "10       0.000000    0.000000   0.407480   0.412088  ...   0.000000   \n",
       "11       0.000000    0.000000   0.407480   0.412088  ...   0.000000   \n",
       "12       0.000000    0.000000   0.407480   0.412088  ...   0.000000   \n",
       "13       0.000000    0.000000   0.020645   0.022006  ...   0.000000   \n",
       "14       0.000000    0.000000   0.020873   0.022463  ...   0.000000   \n",
       "...           ...         ...        ...        ...  ...        ...   \n",
       "43121    0.333931    0.338592   0.296215   0.294587  ...   0.333931   \n",
       "43122    0.333931    0.338592   0.294474   0.295623  ...   0.333931   \n",
       "43123    0.333931    0.338592   0.293988   0.294371  ...   0.333931   \n",
       "43124    0.333931    0.338592   0.293414   0.291673  ...   0.333931   \n",
       "43125    0.333931    0.338592   0.293263   0.290717  ...   0.333931   \n",
       "\n",
       "       var8(t-1)   var1(t)   var2(t)   var3(t)   var4(t)   var5(t)   var6(t)  \\\n",
       "10      0.000000  0.023013  0.024116  0.023450  0.023876  0.000181  0.000000   \n",
       "11      0.000000  0.023246  0.024534  0.022952  0.024164  0.000197  0.000000   \n",
       "12      0.000000  0.022703  0.024286  0.022704  0.023666  0.000168  0.000000   \n",
       "13      0.000000  0.022846  0.024286  0.023435  0.023419  0.000228  0.000000   \n",
       "14      0.000000  0.023246  0.024666  0.023615  0.024148  0.000377  0.000000   \n",
       "...          ...       ...       ...       ...       ...       ...       ...   \n",
       "43121   0.338592  0.291785  0.289545  0.288506  0.293924  0.071729  0.333271   \n",
       "43122   0.338592  0.288580  0.289248  0.287815  0.288993  0.061842  0.333271   \n",
       "43123   0.338592  0.286594  0.282947  0.284547  0.288368  0.090062  0.333271   \n",
       "43124   0.338592  0.283549  0.283653  0.282649  0.285064  0.048174  0.333271   \n",
       "43125   0.338592  0.283549  0.283653  0.282649  0.285064  0.048174  0.333271   \n",
       "\n",
       "        var7(t)   var8(t)  \n",
       "10     0.000000  0.000000  \n",
       "11     0.000000  0.000000  \n",
       "12     0.000000  0.000000  \n",
       "13     0.000000  0.000000  \n",
       "14     0.000000  0.000000  \n",
       "...         ...       ...  \n",
       "43121  0.333931  0.338592  \n",
       "43122  0.333931  0.338592  \n",
       "43123  0.333931  0.338592  \n",
       "43124  0.333931  0.338592  \n",
       "43125  0.333931  0.338592  \n",
       "\n",
       "[43116 rows x 88 columns]"
      ]
     },
     "execution_count": 60,
     "metadata": {},
     "output_type": "execute_result"
    }
   ],
   "source": [
    "reframed"
   ]
  },
  {
   "cell_type": "markdown",
   "metadata": {
    "pycharm": {
     "name": "#%% md\n"
    }
   },
   "source": [
    "## Train and Test Dataset Preparation"
   ]
  },
  {
   "cell_type": "markdown",
   "metadata": {
    "pycharm": {
     "name": "#%% md\n"
    }
   },
   "source": [
    "The first part of the dataset will be used to train the model. The last part for calculating the prediction error. Later we will generate the predictions for the test dataset and measure how accurate they were."
   ]
  },
  {
   "cell_type": "code",
   "execution_count": 61,
   "metadata": {
    "pycharm": {
     "name": "#%%\n"
    }
   },
   "outputs": [
    {
     "data": {
      "text/plain": [
       "34492"
      ]
     },
     "execution_count": 61,
     "metadata": {},
     "output_type": "execute_result"
    }
   ],
   "source": [
    "# get values from reframed dataset\n",
    "values = reframed.values\n",
    "record_count = len(values)\n",
    "records_for_training = int(record_count * PERCENTAGE_OF_DATASET_FOR_TRAINING / 100)\n",
    "records_for_training"
   ]
  },
  {
   "cell_type": "code",
   "execution_count": 62,
   "metadata": {
    "pycharm": {
     "name": "#%%\n"
    }
   },
   "outputs": [],
   "source": [
    "# split into train and test sets\n",
    "train = values[:records_for_training, :]\n",
    "test = values[records_for_training:, :]"
   ]
  },
  {
   "cell_type": "code",
   "execution_count": 63,
   "metadata": {
    "pycharm": {
     "name": "#%%\n"
    }
   },
   "outputs": [
    {
     "data": {
      "text/plain": [
       "(34492, 88)"
      ]
     },
     "execution_count": 63,
     "metadata": {},
     "output_type": "execute_result"
    }
   ],
   "source": [
    "train.shape"
   ]
  },
  {
   "cell_type": "code",
   "execution_count": 64,
   "metadata": {
    "pycharm": {
     "name": "#%%\n"
    }
   },
   "outputs": [
    {
     "data": {
      "text/plain": [
       "(8624, 88)"
      ]
     },
     "execution_count": 64,
     "metadata": {},
     "output_type": "execute_result"
    }
   ],
   "source": [
    "test.shape"
   ]
  },
  {
   "cell_type": "markdown",
   "metadata": {
    "pycharm": {
     "name": "#%% md\n"
    }
   },
   "source": [
    "## Split into Input and Outputs"
   ]
  },
  {
   "cell_type": "markdown",
   "metadata": {
    "pycharm": {
     "name": "#%% md\n"
    }
   },
   "source": [
    "Here we will split both the Train and the Test datasets into features and labels.\n",
    "Features will be all the information where time < 0. For the labels, we will pick only the first 2 fields of each set of indicator properties, which we expect them to contain the Candle Max and Candle Min for each Asset."
   ]
  },
  {
   "cell_type": "code",
   "execution_count": 65,
   "metadata": {
    "pycharm": {
     "name": "#%%\n"
    }
   },
   "outputs": [],
   "source": [
    "# split into input and outputs\n",
    "n_obs = NUMBER_OF_LAG_TIMESTEPS * NUMBER_OF_FEATURES\n",
    "\n",
    "train_X = train[:, :n_obs]\n",
    "train_y = train[:, -NUMBER_OF_FEATURES:-(NUMBER_OF_FEATURES-NUMBER_OF_LABELS)]\n",
    "\n",
    "test_X = test[:, :n_obs]\n",
    "test_y = test[:, -NUMBER_OF_FEATURES:-(NUMBER_OF_FEATURES-NUMBER_OF_LABELS)]"
   ]
  },
  {
   "cell_type": "code",
   "execution_count": 66,
   "metadata": {
    "pycharm": {
     "name": "#%%\n"
    }
   },
   "outputs": [
    {
     "data": {
      "text/plain": [
       "array([[0.40747976, 0.41208768, 0.4100307 , ..., 0.        , 0.        ,\n",
       "        0.        ],\n",
       "       [0.40747976, 0.41208768, 0.4100307 , ..., 0.        , 0.        ,\n",
       "        0.        ],\n",
       "       [0.40747976, 0.41208768, 0.4100307 , ..., 0.        , 0.        ,\n",
       "        0.        ],\n",
       "       ...,\n",
       "       [0.4647994 , 0.4661892 , 0.4669264 , ..., 0.5001449 , 0.5024058 ,\n",
       "        0.50411594],\n",
       "       [0.46677107, 0.46867132, 0.46793485, ..., 0.5024058 , 0.50411594,\n",
       "        0.5081028 ],\n",
       "       [0.46556962, 0.46765798, 0.46794683, ..., 0.5001449 , 0.5024058 ,\n",
       "        0.50411594]], dtype=float32)"
      ]
     },
     "execution_count": 66,
     "metadata": {},
     "output_type": "execute_result"
    }
   ],
   "source": [
    "train_X"
   ]
  },
  {
   "cell_type": "code",
   "execution_count": 67,
   "metadata": {
    "pycharm": {
     "name": "#%%\n"
    }
   },
   "outputs": [
    {
     "data": {
      "text/plain": [
       "array([[0.02301287, 0.02411563, 0.02344986],\n",
       "       [0.02324587, 0.02453447, 0.02295225],\n",
       "       [0.02270341, 0.02428612, 0.02270421],\n",
       "       ...,\n",
       "       [0.4710933 , 0.47022754, 0.47094494],\n",
       "       [0.4680848 , 0.47111344, 0.47017765],\n",
       "       [0.4691372 , 0.47155666, 0.46966803]], dtype=float32)"
      ]
     },
     "execution_count": 67,
     "metadata": {},
     "output_type": "execute_result"
    }
   ],
   "source": [
    "train_y"
   ]
  },
  {
   "cell_type": "markdown",
   "metadata": {
    "pycharm": {
     "name": "#%% md\n"
    }
   },
   "source": [
    "## Reshape Inputs to fit LSTM type of Network"
   ]
  },
  {
   "cell_type": "markdown",
   "metadata": {
    "pycharm": {
     "name": "#%% md\n"
    }
   },
   "source": [
    "This type of Network Architecture requires the features to be in a 3D shape."
   ]
  },
  {
   "cell_type": "code",
   "execution_count": 68,
   "metadata": {
    "pycharm": {
     "name": "#%%\n"
    }
   },
   "outputs": [],
   "source": [
    "# reshape input to be 3D [samples, timesteps, features]\n",
    "train_X = train_X.reshape((train_X.shape[0], NUMBER_OF_LAG_TIMESTEPS, NUMBER_OF_FEATURES))\n",
    "test_X = test_X.reshape((test_X.shape[0], NUMBER_OF_LAG_TIMESTEPS, NUMBER_OF_FEATURES))"
   ]
  },
  {
   "cell_type": "markdown",
   "metadata": {
    "pycharm": {
     "name": "#%% md\n"
    }
   },
   "source": [
    "## Network Architecture\n"
   ]
  },
  {
   "cell_type": "code",
   "execution_count": 69,
   "metadata": {
    "pycharm": {
     "name": "#%%\n"
    }
   },
   "outputs": [
    {
     "data": {
      "text/plain": [
       "array([[[0.40747976, 0.41208768, 0.4100307 , ..., 0.        ,\n",
       "         0.        , 0.        ],\n",
       "        [0.40747976, 0.41208768, 0.4100307 , ..., 0.        ,\n",
       "         0.        , 0.        ],\n",
       "        [0.40747976, 0.41208768, 0.4100307 , ..., 0.        ,\n",
       "         0.        , 0.        ],\n",
       "        ...,\n",
       "        [0.02119591, 0.02240312, 0.02177581, ..., 0.        ,\n",
       "         0.        , 0.        ],\n",
       "        [0.02161771, 0.02310259, 0.02193863, ..., 0.        ,\n",
       "         0.        , 0.        ],\n",
       "        [0.02264617, 0.02350909, 0.02320638, ..., 0.        ,\n",
       "         0.        , 0.        ]],\n",
       "\n",
       "       [[0.40747976, 0.41208768, 0.4100307 , ..., 0.        ,\n",
       "         0.        , 0.        ],\n",
       "        [0.40747976, 0.41208768, 0.4100307 , ..., 0.        ,\n",
       "         0.        , 0.        ],\n",
       "        [0.40747976, 0.41208768, 0.4100307 , ..., 0.        ,\n",
       "         0.        , 0.        ],\n",
       "        ...,\n",
       "        [0.02161771, 0.02310259, 0.02193863, ..., 0.        ,\n",
       "         0.        , 0.        ],\n",
       "        [0.02264617, 0.02350909, 0.02320638, ..., 0.        ,\n",
       "         0.        , 0.        ],\n",
       "        [0.02301287, 0.02411563, 0.02344986, ..., 0.        ,\n",
       "         0.        , 0.        ]],\n",
       "\n",
       "       [[0.40747976, 0.41208768, 0.4100307 , ..., 0.        ,\n",
       "         0.        , 0.        ],\n",
       "        [0.40747976, 0.41208768, 0.4100307 , ..., 0.        ,\n",
       "         0.        , 0.        ],\n",
       "        [0.02064527, 0.02200561, 0.02114946, ..., 0.        ,\n",
       "         0.        , 0.        ],\n",
       "        ...,\n",
       "        [0.02264617, 0.02350909, 0.02320638, ..., 0.        ,\n",
       "         0.        , 0.        ],\n",
       "        [0.02301287, 0.02411563, 0.02344986, ..., 0.        ,\n",
       "         0.        , 0.        ],\n",
       "        [0.02324587, 0.02453447, 0.02295225, ..., 0.        ,\n",
       "         0.        , 0.        ]],\n",
       "\n",
       "       ...,\n",
       "\n",
       "       [[0.4647994 , 0.4661892 , 0.4669264 , ..., 0.5001449 ,\n",
       "         0.5024058 , 0.50411594],\n",
       "        [0.46677107, 0.46867132, 0.46793485, ..., 0.5001449 ,\n",
       "         0.5024058 , 0.50411594],\n",
       "        [0.46556962, 0.46765798, 0.46794683, ..., 0.5001449 ,\n",
       "         0.5024058 , 0.50411594],\n",
       "        ...,\n",
       "        [0.4675246 , 0.468131  , 0.46706426, ..., 0.5001449 ,\n",
       "         0.5024058 , 0.50411594],\n",
       "        [0.468081  , 0.46896613, 0.4704371 , ..., 0.5001449 ,\n",
       "         0.5024058 , 0.50411594],\n",
       "        [0.4690969 , 0.47129405, 0.47111493, ..., 0.5001449 ,\n",
       "         0.5024058 , 0.50411594]],\n",
       "\n",
       "       [[0.46677107, 0.46867132, 0.46793485, ..., 0.5001449 ,\n",
       "         0.5024058 , 0.50411594],\n",
       "        [0.46556962, 0.46765798, 0.46794683, ..., 0.5001449 ,\n",
       "         0.5024058 , 0.50411594],\n",
       "        [0.46775794, 0.46918494, 0.46821463, ..., 0.5024058 ,\n",
       "         0.50411594, 0.5081028 ],\n",
       "        ...,\n",
       "        [0.468081  , 0.46896613, 0.4704371 , ..., 0.5001449 ,\n",
       "         0.5024058 , 0.50411594],\n",
       "        [0.4690969 , 0.47129405, 0.47111493, ..., 0.5001449 ,\n",
       "         0.5024058 , 0.50411594],\n",
       "        [0.4710933 , 0.47022754, 0.47094494, ..., 0.5024058 ,\n",
       "         0.50411594, 0.5081028 ]],\n",
       "\n",
       "       [[0.46556962, 0.46765798, 0.46794683, ..., 0.5001449 ,\n",
       "         0.5024058 , 0.50411594],\n",
       "        [0.46775794, 0.46918494, 0.46821463, ..., 0.5024058 ,\n",
       "         0.50411594, 0.5081028 ],\n",
       "        [0.4666354 , 0.46857792, 0.46911418, ..., 0.5001449 ,\n",
       "         0.5024058 , 0.50411594],\n",
       "        ...,\n",
       "        [0.4690969 , 0.47129405, 0.47111493, ..., 0.5001449 ,\n",
       "         0.5024058 , 0.50411594],\n",
       "        [0.4710933 , 0.47022754, 0.47094494, ..., 0.5024058 ,\n",
       "         0.50411594, 0.5081028 ],\n",
       "        [0.4680848 , 0.47111344, 0.47017765, ..., 0.5001449 ,\n",
       "         0.5024058 , 0.50411594]]], dtype=float32)"
      ]
     },
     "execution_count": 69,
     "metadata": {},
     "output_type": "execute_result"
    }
   ],
   "source": [
    "train_X"
   ]
  },
  {
   "cell_type": "markdown",
   "metadata": {
    "pycharm": {
     "name": "#%% md\n"
    }
   },
   "source": [
    "Here we are using an LSTM architecture for our neural network. This is the type of architecture usually used for problems involving time-series."
   ]
  },
  {
   "cell_type": "code",
   "execution_count": 70,
   "metadata": {
    "pycharm": {
     "name": "#%%\n"
    }
   },
   "outputs": [],
   "source": [
    "if ACTION_TO_TAKE == \"LOAD_MODEL_AND_PREDICT\":\n",
    "    model = load_model('/tf/notebooks/models/' + MODEL_FILE_NAME)\n",
    "\n",
    "if ACTION_TO_TAKE == \"BUILD_AND_SAVE_MODEL\":\n",
    "    # design the network\n",
    "    model = Sequential()\n",
    "    model.add(LSTM(NUMBER_OF_LSTM_NEURONS, input_shape=(train_X.shape[1], train_X.shape[2])))\n",
    "    model.add(Dense(NUMBER_OF_LABELS))\n",
    "    model.compile(loss='mae', optimizer='adam')"
   ]
  },
  {
   "cell_type": "markdown",
   "metadata": {
    "pycharm": {
     "name": "#%% md\n"
    }
   },
   "source": [
    "## Fit the Model"
   ]
  },
  {
   "cell_type": "markdown",
   "metadata": {
    "pycharm": {
     "name": "#%% md\n"
    }
   },
   "source": [
    "We print this output so that the caller program can get the results in a JSON object."
   ]
  },
  {
   "cell_type": "code",
   "execution_count": 71,
   "metadata": {
    "pycharm": {
     "name": "#%%\n"
    }
   },
   "outputs": [
    {
     "name": "stdout",
     "output_type": "stream",
     "text": [
      "{\n",
      "\"trainingOutput\": \"\n"
     ]
    }
   ],
   "source": [
    "print('{')"
   ]
  },
  {
   "cell_type": "markdown",
   "metadata": {
    "pycharm": {
     "name": "#%% md\n"
    }
   },
   "source": [
    "This is the actual process of training the neural network."
   ]
  },
  {
   "cell_type": "code",
   "execution_count": 72,
   "metadata": {
    "pycharm": {
     "name": "#%%\n"
    },
    "scrolled": true
   },
   "outputs": [
    {
     "name": "stdout",
     "output_type": "stream",
     "text": [
      "Epoch 1/5\n",
      "480/480 - 7s - loss: 0.0131 - val_loss: 0.1000\n",
      "Epoch 2/5\n",
      "480/480 - 2s - loss: 0.0104 - val_loss: 0.0796\n",
      "Epoch 3/5\n",
      "480/480 - 2s - loss: 0.0097 - val_loss: 0.0808\n",
      "Epoch 4/5\n",
      "480/480 - 2s - loss: 0.0108 - val_loss: 0.0803\n",
      "Epoch 5/5\n",
      "480/480 - 2s - loss: 0.0105 - val_loss: 0.0741\n"
     ]
    }
   ],
   "source": [
    "if ACTION_TO_TAKE == \"BUILD_AND_SAVE_MODEL\":\n",
    "    # fit network\n",
    "    history = model.fit(\n",
    "        train_X,\n",
    "        train_y,\n",
    "        epochs=NUMBER_OF_EPOCHS,\n",
    "        batch_size=72,\n",
    "        validation_data=(test_X, test_y),\n",
    "        verbose=0,\n",
    "        shuffle=False\n",
    "    )"
   ]
  },
  {
   "cell_type": "markdown",
   "metadata": {
    "pycharm": {
     "name": "#%% md\n"
    }
   },
   "source": []
  },
  {
   "cell_type": "code",
   "execution_count": null,
   "metadata": {
    "collapsed": false,
    "pycharm": {
     "name": "#%%\n"
    }
   },
   "outputs": [],
   "source": [
    "## Save the Model"
   ]
  },
  {
   "cell_type": "code",
   "execution_count": 74,
   "metadata": {
    "pycharm": {
     "name": "#%%\n"
    }
   },
   "outputs": [
    {
     "name": "stderr",
     "output_type": "stream",
     "text": [
      "WARNING:absl:Found untraced functions such as lstm_cell_1_layer_call_and_return_conditional_losses, lstm_cell_1_layer_call_fn, lstm_cell_1_layer_call_fn, lstm_cell_1_layer_call_and_return_conditional_losses, lstm_cell_1_layer_call_and_return_conditional_losses while saving (showing 5 of 5). These functions will not be directly callable after loading.\n"
     ]
    },
    {
     "name": "stdout",
     "output_type": "stream",
     "text": [
      "INFO:tensorflow:Assets written to: D:\\Projeler\\Superalgos\\Bitcoin-Factory\\Forecast-Client\\notebooks\\models\\MODEL-30\\assets\n"
     ]
    },
    {
     "name": "stderr",
     "output_type": "stream",
     "text": [
      "INFO:tensorflow:Assets written to: D:\\Projeler\\Superalgos\\Bitcoin-Factory\\Forecast-Client\\notebooks\\models\\MODEL-30\\assets\n"
     ]
    }
   ],
   "source": [
    "if ACTION_TO_TAKE == \"BUILD_AND_SAVE_MODEL\":\n",
    "    # dave the entire model\n",
    "    model.save('/tf/notebooks/models/' + MODEL_FILE_NAME)"
   ]
  },
  {
   "cell_type": "markdown",
   "metadata": {
    "pycharm": {
     "name": "#%% md\n"
    }
   },
   "source": [
    "## Plot Fitting History"
   ]
  },
  {
   "cell_type": "code",
   "execution_count": 75,
   "metadata": {
    "pycharm": {
     "name": "#%%\n"
    }
   },
   "outputs": [
    {
     "data": {
      "image/png": "[encoded data removed]",
      "text/plain": [
       "<Figure size 432x288 with 1 Axes>"
      ]
     },
     "metadata": {
      "needs_background": "light"
     },
     "output_type": "display_data"
    }
   ],
   "source": [
    "if ACTION_TO_TAKE == \"BUILD_AND_SAVE_MODEL\":\n",
    "    # plot history\n",
    "    pyplot.plot(history.history['loss'], label='train')\n",
    "    pyplot.plot(history.history['val_loss'], label='test')\n",
    "    pyplot.legend()\n",
    "    pyplot.show()"
   ]
  },
  {
   "cell_type": "markdown",
   "metadata": {
    "pycharm": {
     "name": "#%% md\n"
    }
   },
   "source": [
    "## Batch Prediction of all Test Records"
   ]
  },
  {
   "cell_type": "markdown",
   "metadata": {
    "pycharm": {
     "name": "#%% md\n"
    }
   },
   "source": [
    "Here we take all Test Records and get a prediction for each one of them."
   ]
  },
  {
   "cell_type": "code",
   "execution_count": 76,
   "metadata": {
    "pycharm": {
     "name": "#%%\n"
    }
   },
   "outputs": [],
   "source": [
    "# make a prediction\n",
    "yhat = model.predict(test_X)\n",
    "test_X = test_X.reshape((test_X.shape[0], NUMBER_OF_LAG_TIMESTEPS*NUMBER_OF_FEATURES))"
   ]
  },
  {
   "cell_type": "code",
   "execution_count": 77,
   "metadata": {
    "pycharm": {
     "name": "#%%\n"
    }
   },
   "outputs": [
    {
     "data": {
      "text/plain": [
       "array([[0.46147934, 0.48969296, 0.47389597],\n",
       "       [0.4615014 , 0.48980254, 0.4740106 ],\n",
       "       [0.46170077, 0.4898885 , 0.47413343],\n",
       "       ...,\n",
       "       [0.32475248, 0.3554522 , 0.34371322],\n",
       "       [0.32267568, 0.35362568, 0.3415323 ],\n",
       "       [0.3208269 , 0.35218957, 0.34012085]], dtype=float32)"
      ]
     },
     "execution_count": 77,
     "metadata": {},
     "output_type": "execute_result"
    }
   ],
   "source": [
    "yhat"
   ]
  },
  {
   "cell_type": "markdown",
   "metadata": {
    "pycharm": {
     "name": "#%% md\n"
    }
   },
   "source": [
    "## Reversing Normalization\n",
    "\n",
    "For inverting the scale (denormalize) of a test record, we need first to unframe the test_X values so as the get the original record. Since the label was the first colum of the record, we concatenate the prediction to the last columns of the framed record."
   ]
  },
  {
   "cell_type": "code",
   "execution_count": 78,
   "metadata": {
    "pycharm": {
     "name": "#%%\n"
    }
   },
   "outputs": [
    {
     "data": {
      "text/plain": [
       "array([[33430.71 , 34957.6  , 34060.926],\n",
       "       [33432.168, 34964.79 , 34068.457],\n",
       "       [33445.336, 34970.43 , 34076.53 ],\n",
       "       ...,\n",
       "       [24399.9  , 26146.816, 25506.008],\n",
       "       [24262.729, 26026.934, 25362.688],\n",
       "       [24140.615, 25932.676, 25269.936]], dtype=float32)"
      ]
     },
     "execution_count": 78,
     "metadata": {},
     "output_type": "execute_result"
    }
   ],
   "source": [
    "# invert scaling for forecast\n",
    "inv_yhat = concatenate((yhat, test_X[:, -(NUMBER_OF_FEATURES - NUMBER_OF_LABELS):]), axis=1)\n",
    "inv_yhat = scaler.inverse_transform(inv_yhat)\n",
    "inv_yhat = inv_yhat[:,:NUMBER_OF_LABELS]\n",
    "inv_yhat"
   ]
  },
  {
   "cell_type": "code",
   "execution_count": 79,
   "metadata": {
    "pycharm": {
     "name": "#%%\n"
    },
    "scrolled": true
   },
   "outputs": [
    {
     "data": {
      "text/plain": [
       "array([[33904.76, 33720.01, 33851.44],\n",
       "       [34047.86, 33816.98, 33847.51],\n",
       "       [34444.  , 33816.97, 34423.48],\n",
       "       ...,\n",
       "       [21879.53, 21388.  , 21617.92],\n",
       "       [21678.43, 21434.35, 21493.18],\n",
       "       [21678.43, 21434.35, 21493.18]], dtype=float32)"
      ]
     },
     "execution_count": 79,
     "metadata": {},
     "output_type": "execute_result"
    }
   ],
   "source": [
    "# invert scaling for actual\n",
    "inv_y = concatenate((test_y, test_X[:, -(NUMBER_OF_FEATURES - NUMBER_OF_LABELS):]), axis=1)\n",
    "inv_y = scaler.inverse_transform(inv_y)\n",
    "inv_y = inv_y[:,:NUMBER_OF_LABELS]\n",
    "inv_y"
   ]
  },
  {
   "cell_type": "markdown",
   "metadata": {
    "pycharm": {
     "name": "#%% md\n"
    }
   },
   "source": [
    "## Error Calculations"
   ]
  },
  {
   "cell_type": "markdown",
   "metadata": {
    "pycharm": {
     "name": "#%% md\n"
    }
   },
   "source": [
    "### Main Error Value"
   ]
  },
  {
   "cell_type": "code",
   "execution_count": 80,
   "metadata": {
    "pycharm": {
     "name": "#%%\n"
    }
   },
   "outputs": [],
   "source": [
    "# calculate RMSE\n",
    "rmse = sqrt(mean_squared_error(inv_y, inv_yhat))"
   ]
  },
  {
   "cell_type": "markdown",
   "metadata": {
    "pycharm": {
     "name": "#%% md\n"
    }
   },
   "source": [
    "This is the main value we use to know how much error there is. We need this value to go as down as possible."
   ]
  },
  {
   "cell_type": "markdown",
   "metadata": {
    "pycharm": {
     "name": "#%% md\n"
    }
   },
   "source": [
    "### Alternative Error Analisys"
   ]
  },
  {
   "cell_type": "code",
   "execution_count": 81,
   "metadata": {
    "pycharm": {
     "name": "#%%\n"
    }
   },
   "outputs": [
    {
     "data": {
      "text/plain": [
       "array([[-1.39,  3.67,  0.61],\n",
       "       [-1.8 ,  3.39,  0.65],\n",
       "       [-2.89,  3.41, -1.  ],\n",
       "       ...,\n",
       "       [11.51, 22.24, 17.98],\n",
       "       [11.92, 21.42, 18.  ],\n",
       "       [11.35, 20.98, 17.57]])"
      ]
     },
     "execution_count": 81,
     "metadata": {},
     "output_type": "execute_result"
    }
   ],
   "source": [
    "# my way to calculating Errors\n",
    "errors = (inv_yhat - inv_y) / inv_y * 10000\n",
    "errors = errors.astype('int') / 100\n",
    "errors"
   ]
  },
  {
   "cell_type": "markdown",
   "metadata": {
    "pycharm": {
     "name": "#%% md\n"
    }
   },
   "source": [
    "### Plot of the % of Error of each Predicted Value"
   ]
  },
  {
   "cell_type": "code",
   "execution_count": 82,
   "metadata": {
    "pycharm": {
     "name": "#%%\n"
    }
   },
   "outputs": [
    {
     "data": {
      "image/png": "[encoded data removed]",
      "text/plain": [
       "<Figure size 432x288 with 1 Axes>"
      ]
     },
     "metadata": {
      "needs_background": "light"
     },
     "output_type": "display_data"
    }
   ],
   "source": [
    "# plot errors\n",
    "pyplot.plot(errors)\n",
    "pyplot.show()"
   ]
  },
  {
   "cell_type": "markdown",
   "metadata": {
    "pycharm": {
     "name": "#%% md\n"
    }
   },
   "source": [
    "### Dollar Difference Between Prediction and Actual Value"
   ]
  },
  {
   "cell_type": "markdown",
   "metadata": {
    "pycharm": {
     "name": "#%% md\n"
    }
   },
   "source": [
    "In the context of the Test dataset, this is what we get if we substract the Actual Value to the Predicted Value."
   ]
  },
  {
   "cell_type": "code",
   "execution_count": 83,
   "metadata": {
    "pycharm": {
     "name": "#%%\n"
    }
   },
   "outputs": [
    {
     "data": {
      "text/plain": [
       "array([[-474.05078, 1237.5898 ,  209.48438],\n",
       "       [-615.6914 , 1147.8086 ,  220.94531],\n",
       "       [-998.66406, 1153.4609 , -346.94922],\n",
       "       ...,\n",
       "       [2520.371  , 4758.8164 , 3888.088  ],\n",
       "       [2584.2988 , 4592.584  , 3869.5078 ],\n",
       "       [2462.1855 , 4498.326  , 3776.7559 ]], dtype=float32)"
      ]
     },
     "execution_count": 83,
     "metadata": {},
     "output_type": "execute_result"
    }
   ],
   "source": [
    "diff = (inv_yhat - inv_y)\n",
    "diff = diff.astype('float32')\n",
    "diff"
   ]
  },
  {
   "cell_type": "markdown",
   "metadata": {
    "pycharm": {
     "name": "#%% md\n"
    }
   },
   "source": [
    "## Returning Predictions & Errors"
   ]
  },
  {
   "cell_type": "markdown",
   "metadata": {
    "pycharm": {
     "name": "#%% md\n"
    }
   },
   "source": [
    "Here we are returning the predictions to the caller program. Only the last row of predictions are needed because they belong to the latest closed candle.\n"
   ]
  },
  {
   "cell_type": "code",
   "execution_count": 85,
   "metadata": {
    "pycharm": {
     "name": "#%%\n"
    }
   },
   "outputs": [
    {
     "name": "stdout",
     "output_type": "stream",
     "text": [
      ",\"predictions\": \" [24140.615234375, 25932.67578125, 25269.935546875] \"\n"
     ]
    }
   ],
   "source": [
    "print('\"predictions\": ', json.dumps(inv_yhat[-1], cls=NumpyArrayEncoder) )"
   ]
  },
  {
   "cell_type": "code",
   "execution_count": 86,
   "metadata": {
    "pycharm": {
     "name": "#%%\n"
    }
   },
   "outputs": [
    {
     "name": "stdout",
     "output_type": "stream",
     "text": [
      ",\"errorRMSE\": 6241.474\n",
      "}\n"
     ]
    }
   ],
   "source": [
    "print(',\"errorRMSE\": %.3f' % rmse)\n",
    "print('}')"
   ]
  },
  {
   "cell_type": "markdown",
   "metadata": {
    "pycharm": {
     "name": "#%% md\n"
    }
   },
   "source": [
    "#####"
   ]
  },
  {
   "cell_type": "markdown",
   "metadata": {
    "pycharm": {
     "name": "#%% md\n"
    }
   },
   "source": [
    "######\n"
   ]
  }
 ],
 "metadata": {
  "colab": {
   "collapsed_sections": [],
   "name": "Copy of csv.ipynb",
   "provenance": [],
   "toc_visible": true
  },
  "kernelspec": {
   "display_name": "Python 3.9.15 64-bit",
   "language": "python",
   "name": "python3"
  },
  "language_info": {
   "codemirror_mode": {
    "name": "ipython",
    "version": 3
   },
   "file_extension": ".py",
   "mimetype": "text/x-python",
   "name": "python",
   "nbconvert_exporter": "python",
   "pygments_lexer": "ipython3",
   "version": "3.9.15"
  },
  "vscode": {
   "interpreter": {
    "hash": "f9f85f796d01129d0dd105a088854619f454435301f6ffec2fea96ecbd9be4ac"
   }
  }
 },
 "nbformat": 4,
 "nbformat_minor": 1
}
